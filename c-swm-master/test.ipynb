{
 "cells": [
  {
   "cell_type": "code",
   "execution_count": 8,
   "metadata": {},
   "outputs": [
    {
     "name": "stdout",
     "output_type": "stream",
     "text": [
      "INFO: Making new env: ShapesTrain-v0\n"
     ]
    },
    {
     "name": "stderr",
     "output_type": "stream",
     "text": [
      "Traceback (most recent call last):\n",
      "  File \"data_gen/env.py\", line 60, in <module>\n",
      "    env = gym.make(args.env_id)\n",
      "  File \"D:\\anaconda\\envs\\pytorch\\lib\\site-packages\\gym\\envs\\registration.py\", line 171, in make\n",
      "    return registry.make(id, **kwargs)\n",
      "  File \"D:\\anaconda\\envs\\pytorch\\lib\\site-packages\\gym\\envs\\registration.py\", line 123, in make\n",
      "    env = spec.make(**kwargs)\n",
      "  File \"D:\\anaconda\\envs\\pytorch\\lib\\site-packages\\gym\\envs\\registration.py\", line 87, in make\n",
      "    env = cls(**_kwargs)\n",
      "  File \"c:\\Users\\HCheng\\Desktop\\图卷积\\Project\\c-swm-master\\envs\\block_pushing.py\", line 98, in __init__\n",
      "    self.reset()\n",
      "  File \"c:\\Users\\HCheng\\Desktop\\图卷积\\Project\\c-swm-master\\envs\\block_pushing.py\", line 158, in reset\n",
      "    state_obs = (self.get_state(), self.render())\n",
      "  File \"c:\\Users\\HCheng\\Desktop\\图卷积\\Project\\c-swm-master\\envs\\block_pushing.py\", line 121, in render\n",
      "    rr, cc = skimage.draw.circle(\n",
      "AttributeError: module 'skimage' has no attribute 'draw'\n"
     ]
    }
   ],
   "source": [
    "!python data_gen/env.py --env_id ShapesTrain-v0 --fname data/shapes_train.h5 --num_episodes 1000 --seed 1"
   ]
  },
  {
   "cell_type": "code",
   "execution_count": 7,
   "metadata": {},
   "outputs": [
    {
     "name": "stdout",
     "output_type": "stream",
     "text": [
      "Collecting h5py\n",
      "  Downloading h5py-3.5.0-cp38-cp38-win_amd64.whl (2.8 MB)\n",
      "Requirement already satisfied: numpy>=1.17.5 in d:\\anaconda\\envs\\pytorch\\lib\\site-packages (from h5py) (1.20.2)\n",
      "Installing collected packages: h5py\n",
      "Successfully installed h5py-3.5.0\n"
     ]
    }
   ],
   "source": [
    "!pip install h5py"
   ]
  }
 ],
 "metadata": {
  "interpreter": {
   "hash": "527a93331b4b1a8345148922acc34427fb7591433d63b66d32040b6fbbc6d593"
  },
  "kernelspec": {
   "display_name": "Python 3.8.8 64-bit ('pytorch': conda)",
   "name": "python3"
  },
  "language_info": {
   "codemirror_mode": {
    "name": "ipython",
    "version": 3
   },
   "file_extension": ".py",
   "mimetype": "text/x-python",
   "name": "python",
   "nbconvert_exporter": "python",
   "pygments_lexer": "ipython3",
   "version": "3.8.8"
  },
  "orig_nbformat": 4
 },
 "nbformat": 4,
 "nbformat_minor": 2
}
